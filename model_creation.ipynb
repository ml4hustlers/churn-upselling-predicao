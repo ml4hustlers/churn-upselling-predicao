{
 "cells": [
  {
   "cell_type": "markdown",
   "metadata": {},
   "source": [
    "# KDD 2009 Challenge\n",
    "\n",
    "Este notebook foi criado para criação do modelo de aprendizagem de máquina pára KDD Cup 2009: Custumer relationship prediction, cedidos pela empresa de telecomunicação francesa Orange.\n",
    "\n",
    "O objetivo é predizer o churn, appentency e upselling. Conforme explicações enviadas. \n"
   ]
  },
  {
   "cell_type": "code",
   "execution_count": null,
   "metadata": {},
   "outputs": [],
   "source": [
    "## Carregando os pacotes, bancos de dados e labels"
   ]
  },
  {
   "cell_type": "code",
   "execution_count": 3,
   "metadata": {},
   "outputs": [
    {
     "name": "stderr",
     "output_type": "stream",
     "text": [
      "C:\\Users\\Samsung\\Anaconda3\\lib\\site-packages\\deap\\tools\\_hypervolume\\pyhv.py:33: ImportWarning: Falling back to the python version of hypervolume module. Expect this to be very slow.\n",
      "  \"module. Expect this to be very slow.\", ImportWarning)\n"
     ]
    }
   ],
   "source": [
    "import os as os\n",
    "import ipywidgets as widgets\n",
    "import pandas as pd\n",
    "import numpy as np\n",
    "import pickle\n",
    "import matplotlib.pyplot as plt\n",
    "from scipy import stats\n",
    "import seaborn as sns\n",
    "from pylab import rcParams\n",
    "import pydotplus\n",
    "from tpot import TPOTClassifier\n",
    "from sklearn.naive_bayes import GaussianNB\n",
    "from sklearn.pipeline import make_pipeline, make_union\n",
    "from tpot.builtins import StackingEstimator\n",
    "from IPython.display import Image \n",
    "from sklearn.model_selection import train_test_split\n",
    "from sklearn.utils import resample\n",
    "from sklearn.model_selection import StratifiedKFold\n",
    "from sklearn.ensemble import RandomForestClassifier\n",
    "from sklearn.ensemble import GradientBoostingClassifier\n",
    "from sklearn import preprocessing\n",
    "from sklearn.tree import DecisionTreeClassifier\n",
    "from sklearn.ensemble import ExtraTreesClassifier\n",
    "from sklearn.tree import export_graphviz\n",
    "from sklearn.metrics import classification_report\n",
    "from sklearn.metrics import (confusion_matrix, precision_recall_curve, auc,\n",
    "                             roc_curve, recall_score, classification_report, f1_score,\n",
    "                             precision_recall_fscore_support,roc_auc_score)\n",
    "\n",
    "%matplotlib inline"
   ]
  },
  {
   "cell_type": "code",
   "execution_count": 4,
   "metadata": {},
   "outputs": [
    {
     "data": {
      "text/html": [
       "<div>\n",
       "<style scoped>\n",
       "    .dataframe tbody tr th:only-of-type {\n",
       "        vertical-align: middle;\n",
       "    }\n",
       "\n",
       "    .dataframe tbody tr th {\n",
       "        vertical-align: top;\n",
       "    }\n",
       "\n",
       "    .dataframe thead th {\n",
       "        text-align: right;\n",
       "    }\n",
       "</style>\n",
       "<table border=\"1\" class=\"dataframe\">\n",
       "  <thead>\n",
       "    <tr style=\"text-align: right;\">\n",
       "      <th></th>\n",
       "      <th>Var6</th>\n",
       "      <th>Var7</th>\n",
       "      <th>Var13</th>\n",
       "      <th>Var21</th>\n",
       "      <th>Var22</th>\n",
       "      <th>Var24</th>\n",
       "      <th>Var25</th>\n",
       "      <th>Var28</th>\n",
       "      <th>Var35</th>\n",
       "      <th>Var38</th>\n",
       "      <th>...</th>\n",
       "      <th>Var134</th>\n",
       "      <th>Var140</th>\n",
       "      <th>Var143</th>\n",
       "      <th>Var144</th>\n",
       "      <th>Var149</th>\n",
       "      <th>Var153</th>\n",
       "      <th>Var160</th>\n",
       "      <th>Var163</th>\n",
       "      <th>Var173</th>\n",
       "      <th>Var181</th>\n",
       "    </tr>\n",
       "  </thead>\n",
       "  <tbody>\n",
       "    <tr>\n",
       "      <th>0</th>\n",
       "      <td>1526.000000</td>\n",
       "      <td>7.0</td>\n",
       "      <td>184.0</td>\n",
       "      <td>464.000000</td>\n",
       "      <td>580.0</td>\n",
       "      <td>14.000000</td>\n",
       "      <td>128.0</td>\n",
       "      <td>166.56</td>\n",
       "      <td>0.0</td>\n",
       "      <td>3570.0</td>\n",
       "      <td>...</td>\n",
       "      <td>69134.0</td>\n",
       "      <td>185.0</td>\n",
       "      <td>0.0</td>\n",
       "      <td>9.000000</td>\n",
       "      <td>397579.000000</td>\n",
       "      <td>1812252.0</td>\n",
       "      <td>142.0</td>\n",
       "      <td>38418.0</td>\n",
       "      <td>0.0</td>\n",
       "      <td>0.0</td>\n",
       "    </tr>\n",
       "    <tr>\n",
       "      <th>1</th>\n",
       "      <td>525.000000</td>\n",
       "      <td>0.0</td>\n",
       "      <td>0.0</td>\n",
       "      <td>168.000000</td>\n",
       "      <td>210.0</td>\n",
       "      <td>2.000000</td>\n",
       "      <td>24.0</td>\n",
       "      <td>353.52</td>\n",
       "      <td>0.0</td>\n",
       "      <td>4764966.0</td>\n",
       "      <td>...</td>\n",
       "      <td>357038.0</td>\n",
       "      <td>0.0</td>\n",
       "      <td>0.0</td>\n",
       "      <td>9.000000</td>\n",
       "      <td>278334.000000</td>\n",
       "      <td>10439160.0</td>\n",
       "      <td>32.0</td>\n",
       "      <td>238572.0</td>\n",
       "      <td>0.0</td>\n",
       "      <td>0.0</td>\n",
       "    </tr>\n",
       "    <tr>\n",
       "      <th>2</th>\n",
       "      <td>5236.000000</td>\n",
       "      <td>7.0</td>\n",
       "      <td>904.0</td>\n",
       "      <td>1212.000000</td>\n",
       "      <td>1515.0</td>\n",
       "      <td>26.000000</td>\n",
       "      <td>816.0</td>\n",
       "      <td>220.08</td>\n",
       "      <td>0.0</td>\n",
       "      <td>5883894.0</td>\n",
       "      <td>...</td>\n",
       "      <td>248932.0</td>\n",
       "      <td>800.0</td>\n",
       "      <td>0.0</td>\n",
       "      <td>36.000000</td>\n",
       "      <td>320565.000000</td>\n",
       "      <td>9826360.0</td>\n",
       "      <td>206.0</td>\n",
       "      <td>434946.0</td>\n",
       "      <td>0.0</td>\n",
       "      <td>0.0</td>\n",
       "    </tr>\n",
       "    <tr>\n",
       "      <th>3</th>\n",
       "      <td>1326.437116</td>\n",
       "      <td>0.0</td>\n",
       "      <td>0.0</td>\n",
       "      <td>234.518225</td>\n",
       "      <td>0.0</td>\n",
       "      <td>4.507926</td>\n",
       "      <td>0.0</td>\n",
       "      <td>22.08</td>\n",
       "      <td>0.0</td>\n",
       "      <td>0.0</td>\n",
       "      <td>...</td>\n",
       "      <td>0.0</td>\n",
       "      <td>0.0</td>\n",
       "      <td>0.0</td>\n",
       "      <td>11.727665</td>\n",
       "      <td>294920.804255</td>\n",
       "      <td>0.0</td>\n",
       "      <td>0.0</td>\n",
       "      <td>0.0</td>\n",
       "      <td>0.0</td>\n",
       "      <td>0.0</td>\n",
       "    </tr>\n",
       "    <tr>\n",
       "      <th>4</th>\n",
       "      <td>1029.000000</td>\n",
       "      <td>7.0</td>\n",
       "      <td>3216.0</td>\n",
       "      <td>64.000000</td>\n",
       "      <td>80.0</td>\n",
       "      <td>4.000000</td>\n",
       "      <td>64.0</td>\n",
       "      <td>200.00</td>\n",
       "      <td>0.0</td>\n",
       "      <td>0.0</td>\n",
       "      <td>...</td>\n",
       "      <td>66046.0</td>\n",
       "      <td>3255.0</td>\n",
       "      <td>0.0</td>\n",
       "      <td>9.000000</td>\n",
       "      <td>267162.000000</td>\n",
       "      <td>644836.0</td>\n",
       "      <td>2.0</td>\n",
       "      <td>0.0</td>\n",
       "      <td>0.0</td>\n",
       "      <td>0.0</td>\n",
       "    </tr>\n",
       "  </tbody>\n",
       "</table>\n",
       "<p>5 rows × 38 columns</p>\n",
       "</div>"
      ],
      "text/plain": [
       "          Var6  Var7   Var13        Var21   Var22      Var24  Var25   Var28  \\\n",
       "0  1526.000000   7.0   184.0   464.000000   580.0  14.000000  128.0  166.56   \n",
       "1   525.000000   0.0     0.0   168.000000   210.0   2.000000   24.0  353.52   \n",
       "2  5236.000000   7.0   904.0  1212.000000  1515.0  26.000000  816.0  220.08   \n",
       "3  1326.437116   0.0     0.0   234.518225     0.0   4.507926    0.0   22.08   \n",
       "4  1029.000000   7.0  3216.0    64.000000    80.0   4.000000   64.0  200.00   \n",
       "\n",
       "   Var35      Var38  ...    Var134  Var140  Var143     Var144         Var149  \\\n",
       "0    0.0     3570.0  ...   69134.0   185.0     0.0   9.000000  397579.000000   \n",
       "1    0.0  4764966.0  ...  357038.0     0.0     0.0   9.000000  278334.000000   \n",
       "2    0.0  5883894.0  ...  248932.0   800.0     0.0  36.000000  320565.000000   \n",
       "3    0.0        0.0  ...       0.0     0.0     0.0  11.727665  294920.804255   \n",
       "4    0.0        0.0  ...   66046.0  3255.0     0.0   9.000000  267162.000000   \n",
       "\n",
       "       Var153  Var160    Var163  Var173  Var181  \n",
       "0   1812252.0   142.0   38418.0     0.0     0.0  \n",
       "1  10439160.0    32.0  238572.0     0.0     0.0  \n",
       "2   9826360.0   206.0  434946.0     0.0     0.0  \n",
       "3         0.0     0.0       0.0     0.0     0.0  \n",
       "4    644836.0     2.0       0.0     0.0     0.0  \n",
       "\n",
       "[5 rows x 38 columns]"
      ]
     },
     "execution_count": 4,
     "metadata": {},
     "output_type": "execute_result"
    }
   ],
   "source": [
    "df = pd.read_csv(\"df_process.csv\")\n",
    "\n",
    "df.head(5)"
   ]
  },
  {
   "cell_type": "code",
   "execution_count": 5,
   "metadata": {
    "collapsed": true
   },
   "outputs": [
    {
     "name": "stderr",
     "output_type": "stream",
     "text": [
      "C:\\Users\\Samsung\\Anaconda3\\lib\\site-packages\\ipykernel_launcher.py:2: ParserWarning: Falling back to the 'python' engine because the 'c' engine does not support regex separators (separators > 1 char and different from '\\s+' are interpreted as regex); you can avoid this warning by specifying engine='python'.\n",
      "  \n",
      "C:\\Users\\Samsung\\Anaconda3\\lib\\site-packages\\ipykernel_launcher.py:3: ParserWarning: Falling back to the 'python' engine because the 'c' engine does not support regex separators (separators > 1 char and different from '\\s+' are interpreted as regex); you can avoid this warning by specifying engine='python'.\n",
      "  This is separate from the ipykernel package so we can avoid doing imports until\n",
      "C:\\Users\\Samsung\\Anaconda3\\lib\\site-packages\\ipykernel_launcher.py:4: ParserWarning: Falling back to the 'python' engine because the 'c' engine does not support regex separators (separators > 1 char and different from '\\s+' are interpreted as regex); you can avoid this warning by specifying engine='python'.\n",
      "  after removing the cwd from sys.path.\n"
     ]
    }
   ],
   "source": [
    "path_data = 'C:/Users/Samsung/Documents/kdd_cup'\n",
    "churn = pd.read_csv(f'{path_data}''/orange_small_train_churn.labels', sep = '/n', header = None)\n",
    "appentency = pd.read_csv(f'{path_data}''/orange_small_train_appetency.labels', sep = '/n', header = None)\n",
    "upsell = pd.read_csv(f'{path_data}''/orange_small_train_upselling.labels', sep = '/n', header = None)"
   ]
  },
  {
   "cell_type": "markdown",
   "metadata": {},
   "source": [
    "## Churn"
   ]
  },
  {
   "cell_type": "markdown",
   "metadata": {},
   "source": [
    "### Dividindo os dados em treino, teste e validação"
   ]
  },
  {
   "cell_type": "code",
   "execution_count": 7,
   "metadata": {},
   "outputs": [
    {
     "name": "stdout",
     "output_type": "stream",
     "text": [
      "Quantidade Observações:\n",
      "Treino: 36000\n",
      "Teste: 10000\n",
      "Validação: 4000\n"
     ]
    }
   ],
   "source": [
    "y = churn\n",
    "X = df\n",
    "\n",
    "X_train, X_test, y_train, y_test = train_test_split(X, y, test_size = 0.2, random_state = 1 )\n",
    "X_train, X_val, y_train, y_val = train_test_split(X_train, y_train, test_size=0.1, random_state=1)\n",
    "print(\"Quantidade Observações:\\nTreino: {tr}\\nTeste: {te}\\nValidação: {v}\".format(tr = X_train.shape[0],\n",
    "                                                                                 te = X_test.shape[0],\n",
    "                                                                                 v = X_val.shape[0]))"
   ]
  },
  {
   "cell_type": "markdown",
   "metadata": {},
   "source": [
    "### Criando um modelo utilizando o Auto ML\n",
    "\n",
    "Para um primeiro prototipo, aplicaremos o framework tplot, construido sobre o sklearn, que testa vários tipos de modelos de classificação e retorna uma configuração inicial para construção de um modelo"
   ]
  },
  {
   "cell_type": "code",
   "execution_count": 12,
   "metadata": {},
   "outputs": [],
   "source": [
    "#Criando o learner\n",
    "tp = TPOTClassifier(\n",
    "    generations=2,\n",
    "    population_size=10,\n",
    "    cv=2,\n",
    "    n_jobs=-1,\n",
    "    random_state=0,\n",
    "    verbosity=0\n",
    ")"
   ]
  },
  {
   "cell_type": "code",
   "execution_count": 13,
   "metadata": {},
   "outputs": [
    {
     "name": "stdout",
     "output_type": "stream",
     "text": [
      "Warning: xgboost.XGBClassifier is not available and will not be used by TPOT.\n"
     ]
    },
    {
     "data": {
      "text/plain": [
       "TPOTClassifier(config_dict=None, crossover_rate=0.1, cv=2,\n",
       "        disable_update_check=False, early_stop=None, generations=2,\n",
       "        max_eval_time_mins=5, max_time_mins=None, memory=None,\n",
       "        mutation_rate=0.9, n_jobs=-1, offspring_size=None,\n",
       "        periodic_checkpoint_folder=None, population_size=10,\n",
       "        random_state=0, scoring=None, subsample=1.0, template='RandomTree',\n",
       "        use_dask=False, verbosity=0, warm_start=False)"
      ]
     },
     "execution_count": 13,
     "metadata": {},
     "output_type": "execute_result"
    }
   ],
   "source": [
    "#Treinando os dados com automl\n",
    "tp.fit(X_train, np.array(y_train).ravel())"
   ]
  },
  {
   "cell_type": "code",
   "execution_count": 15,
   "metadata": {},
   "outputs": [
    {
     "name": "stdout",
     "output_type": "stream",
     "text": [
      "Score: 0.9232\n"
     ]
    }
   ],
   "source": [
    "#printando o score do modelo\n",
    "print(\"Score: \"+str(tp.score(X_test, np.array(y_test).ravel())))"
   ]
  },
  {
   "cell_type": "code",
   "execution_count": 16,
   "metadata": {},
   "outputs": [
    {
     "name": "stdout",
     "output_type": "stream",
     "text": [
      "import numpy as np\n",
      "import pandas as pd\n",
      "from sklearn.ensemble import ExtraTreesClassifier\n",
      "from sklearn.model_selection import train_test_split\n",
      "\n",
      "# NOTE: Make sure that the class is labeled 'target' in the data file\n",
      "tpot_data = pd.read_csv('PATH/TO/DATA/FILE', sep='COLUMN_SEPARATOR', dtype=np.float64)\n",
      "features = tpot_data.drop('target', axis=1).values\n",
      "training_features, testing_features, training_target, testing_target = \\\n",
      "            train_test_split(features, tpot_data['target'].values, random_state=0)\n",
      "\n",
      "# Average CV score on the training set was:0.927416667985854\n",
      "exported_pipeline = ExtraTreesClassifier(bootstrap=True, criterion=\"entropy\", max_features=0.05, min_samples_leaf=10, min_samples_split=13, n_estimators=100)\n",
      "\n",
      "exported_pipeline.fit(training_features, training_target)\n",
      "results = exported_pipeline.predict(testing_features)\n",
      "\n"
     ]
    }
   ],
   "source": [
    "#exportanod o modelo\n",
    "tp.export('modelo.py')\n",
    "with open('modelo.py') as pipe:\n",
    "    print(\"\".join(pipe.readlines()))"
   ]
  },
  {
   "cell_type": "markdown",
   "metadata": {},
   "source": [
    "### Criando o modelo sugerido"
   ]
  },
  {
   "cell_type": "code",
   "execution_count": 9,
   "metadata": {},
   "outputs": [],
   "source": [
    "#criação do learner\n",
    "et = ExtraTreesClassifier(bootstrap=True,\n",
    "                          criterion=\"entropy\",\n",
    "                          max_features=0.05,\n",
    "                          min_samples_leaf=10,\n",
    "                          min_samples_split=13, \n",
    "                          n_estimators=100)"
   ]
  },
  {
   "cell_type": "code",
   "execution_count": 10,
   "metadata": {},
   "outputs": [
    {
     "name": "stdout",
     "output_type": "stream",
     "text": [
      "Score: 0.9232\n"
     ]
    }
   ],
   "source": [
    "#Treinando o modelo\n",
    "et.fit(X_train, np.array(y_train).ravel())\n",
    "y_pred_val = et.predict(X_val)\n",
    "y_pred_train = et.predict(X_train)\n",
    "y_pred_test = et.predict(X_test)\n",
    "print(\"Score: \"+str(et.score(X_test, np.array(y_test).ravel())))"
   ]
  },
  {
   "cell_type": "code",
   "execution_count": 159,
   "metadata": {},
   "outputs": [
    {
     "data": {
      "text/plain": [
       "<matplotlib.axes._subplots.AxesSubplot at 0x1d1c9a891d0>"
      ]
     },
     "execution_count": 159,
     "metadata": {},
     "output_type": "execute_result"
    },
    {
     "data": {
      "image/png": "[encoded data removed]",
      "text/plain": [
       "<Figure size 432x288 with 1 Axes>"
      ]
     },
     "metadata": {
      "needs_background": "light"
     },
     "output_type": "display_data"
    }
   ],
   "source": [
    "#Plotando a importancia das features na predição.\n",
    "importance = pd.DataFrame({'features': list(X_train.columns), 'importance': list(et.feature_importances_)})\n",
    "importance.sort_values(by='importance', ascending=False).head(12).plot.barh(x='features')"
   ]
  },
  {
   "cell_type": "code",
   "execution_count": 18,
   "metadata": {},
   "outputs": [],
   "source": [
    "#Função para plotar matriz de confusão\n",
    "def plot_confusion_matrix(y_true, y_pred, classes,\n",
    "                          normalize=False,\n",
    "                          title=None,\n",
    "                          cmap=plt.cm.Blues):\n",
    "    \"\"\"\n",
    "    This function prints and plots the confusion matrix.\n",
    "    Normalization can be applied by setting `normalize=True`.\n",
    "    \"\"\"\n",
    "    if not title:\n",
    "        if normalize:\n",
    "            title = 'Normalized confusion matrix'\n",
    "        else:\n",
    "            title = 'Confusion matrix, without normalization'\n",
    "\n",
    "    # Compute confusion matrix\n",
    "    cm = confusion_matrix(y_true, y_pred)\n",
    "    # Only use the labels that appear in the data\n",
    "    #classes = classes[unique_labels(y_true, y_pred)]\n",
    "    if normalize:\n",
    "        cm = cm.astype('float') / cm.sum(axis=1)[:, np.newaxis]        \n",
    "    \n",
    "    fig, ax = plt.subplots()\n",
    "    im = ax.imshow(cm, interpolation='nearest', cmap=cmap)\n",
    "    ax.figure.colorbar(im, ax=ax)\n",
    "    # We want to show all ticks...\n",
    "    ax.set(xticks=np.arange(cm.shape[1]),\n",
    "           yticks=np.arange(cm.shape[0]),\n",
    "           # ... and label them with the respective list entries\n",
    "           xticklabels=classes, yticklabels=classes,\n",
    "           title=title,\n",
    "           ylabel='True label',\n",
    "           xlabel='Predicted label')\n",
    "\n",
    "    # Rotate the tick labels and set their alignment.\n",
    "    plt.setp(ax.get_xticklabels(), rotation=45, ha=\"right\",\n",
    "             rotation_mode=\"anchor\")\n",
    "\n",
    "    # Loop over data dimensions and create text annotations.\n",
    "    fmt = '.2f' if normalize else 'd'\n",
    "    thresh = cm.max() / 2.\n",
    "    for i in range(cm.shape[0]):\n",
    "        for j in range(cm.shape[1]):\n",
    "            ax.text(j, i, format(cm[i, j], fmt),\n",
    "                    ha=\"center\", va=\"center\",\n",
    "                    color=\"white\" if cm[i, j] > thresh else \"black\")\n",
    "    fig.tight_layout()\n",
    "    return ax\n",
    "\n",
    "\n",
    "np.set_printoptions(precision=3)"
   ]
  },
  {
   "cell_type": "code",
   "execution_count": 19,
   "metadata": {},
   "outputs": [],
   "source": [
    "#Função para plotar matriz de confusão em paralelo\n",
    "def plotar_paralelo(lista_resultados):\n",
    "    \n",
    "    wids = []\n",
    "    for titulo, y_true, y_pred in lista_resultados:\n",
    "        w = widgets.Output()\n",
    "        wids.append(w)\n",
    "        \n",
    "        with w:\n",
    "            plot_confusion_matrix(y_true, y_pred, normalize=False, classes=['Não', 'Sim'],\n",
    "                      title=titulo)\n",
    "            plt.show()\n",
    "    \n",
    "    hbox = widgets.HBox(wids)\n",
    "    return hbox"
   ]
  },
  {
   "cell_type": "code",
   "execution_count": 11,
   "metadata": {},
   "outputs": [
    {
     "data": {
      "application/vnd.jupyter.widget-view+json": {
       "model_id": "43d96eb00d1544f09e6e5fcb903a2a5b",
       "version_major": 2,
       "version_minor": 0
      },
      "text/plain": [
       "HBox(children=(Output(), Output(), Output()))"
      ]
     },
     "metadata": {},
     "output_type": "display_data"
    }
   ],
   "source": [
    "resultados = [('Confusion Matrix: Treino', y_train, y_pred_train),\n",
    "              ('Confusion Matrix: Validação', y_val, y_pred_val),\n",
    "              ('Confusion Matrix: Teste', y_test, y_pred_test)]\n",
    "plotar_paralelo(resultados)"
   ]
  },
  {
   "cell_type": "code",
   "execution_count": 21,
   "metadata": {},
   "outputs": [
    {
     "data": {
      "text/plain": [
       "<matplotlib.axes._subplots.AxesSubplot at 0x258eccf4da0>"
      ]
     },
     "execution_count": 21,
     "metadata": {},
     "output_type": "execute_result"
    },
    {
     "data": {
      "image/png": "[encoded data removed]",
      "text/plain": [
       "<Figure size 432x288 with 2 Axes>"
      ]
     },
     "metadata": {
      "needs_background": "light"
     },
     "output_type": "display_data"
    }
   ],
   "source": [
    "#Para vizualição da confusion matrix sem widget\n",
    "plot_confusion_matrix(y_test,y_pred_test, classes = [\"Não\", \"Sim\"])"
   ]
  },
  {
   "cell_type": "markdown",
   "metadata": {},
   "source": [
    "Observa-se no gráfico acima que o modelo está simplesmente categorizando todos as predições como \"Não\". \n",
    "\n",
    "Igualaremos a quantidade de positivos e negativos e criaremos outro modelo.\n"
   ]
  },
  {
   "cell_type": "code",
   "execution_count": 22,
   "metadata": {},
   "outputs": [
    {
     "name": "stdout",
     "output_type": "stream",
     "text": [
      "Area under ROC curve = 0.50\n"
     ]
    },
    {
     "data": {
      "image/png": "[encoded data removed]",
      "text/plain": [
       "<Figure size 432x288 with 1 Axes>"
      ]
     },
     "metadata": {
      "needs_background": "light"
     },
     "output_type": "display_data"
    }
   ],
   "source": [
    "# ROC curve and Area-Under-Curve (AUC)\n",
    "\n",
    "fpr_gb, tpr_gb, _ = roc_curve(y_val, y_pred_val)\n",
    "roc_auc_gb = auc(fpr_gb, tpr_gb)\n",
    "\n",
    "print(\"Area under ROC curve = {:0.2f}\".format(roc_auc_gb))\n",
    "\n",
    "fpr, tpr, thresholds = roc_curve(y_val, y_pred_val)\n",
    "roc_auc = auc(fpr, tpr)\n",
    "\n",
    "plt.title('Receiver Operating Characteristic')\n",
    "plt.plot(fpr_gb, tpr_gb, label='AUC = %0.4f'% roc_auc)\n",
    "plt.legend(loc='lower right')\n",
    "plt.plot([0,1],[0,1],'r--')\n",
    "plt.xlim([-0.001, 1])\n",
    "plt.ylim([0, 1.001])\n",
    "plt.ylabel('True Positive Rate')\n",
    "plt.xlabel('False Positive Rate')\n",
    "plt.show();"
   ]
  },
  {
   "cell_type": "markdown",
   "metadata": {},
   "source": [
    "Conforme esperado temos um AUC de 0.50"
   ]
  },
  {
   "cell_type": "code",
   "execution_count": 11,
   "metadata": {},
   "outputs": [
    {
     "name": "stderr",
     "output_type": "stream",
     "text": [
      "C:\\Users\\Samsung\\Anaconda3\\lib\\site-packages\\sklearn\\metrics\\classification.py:1143: UndefinedMetricWarning: Precision and F-score are ill-defined and being set to 0.0 in labels with no predicted samples.\n",
      "  'precision', 'predicted', average, warn_for)\n",
      "C:\\Users\\Samsung\\Anaconda3\\lib\\site-packages\\sklearn\\metrics\\classification.py:1143: UndefinedMetricWarning: Precision and F-score are ill-defined and being set to 0.0 in labels with no predicted samples.\n",
      "  'precision', 'predicted', average, warn_for)\n",
      "C:\\Users\\Samsung\\Anaconda3\\lib\\site-packages\\sklearn\\metrics\\classification.py:1143: UndefinedMetricWarning: Precision and F-score are ill-defined and being set to 0.0 in labels with no predicted samples.\n",
      "  'precision', 'predicted', average, warn_for)\n"
     ]
    },
    {
     "name": "stdout",
     "output_type": "stream",
     "text": [
      "              precision    recall  f1-score   support\n",
      "\n",
      "          -1       0.92      1.00      0.96      9232\n",
      "           1       0.00      0.00      0.00       768\n",
      "\n",
      "   micro avg       0.92      0.92      0.92     10000\n",
      "   macro avg       0.46      0.50      0.48     10000\n",
      "weighted avg       0.85      0.92      0.89     10000\n",
      "\n"
     ]
    }
   ],
   "source": [
    "#plotando precisão, recall e f1-score:\n",
    "print(classification_report(y_test, y_pred_test))"
   ]
  },
  {
   "cell_type": "markdown",
   "metadata": {},
   "source": [
    "### Oversampling"
   ]
  },
  {
   "cell_type": "code",
   "execution_count": 23,
   "metadata": {},
   "outputs": [],
   "source": [
    "y = churn\n",
    "X = df\n",
    "#Criando o novo data frame com os dados balanceados\n",
    "y.columns = [\"churn\"]\n",
    "df_churn = pd.concat([df,y], axis = 1)\n",
    "\n",
    "df_churn_main = df_churn[df_churn.churn == -1]\n",
    "df_churn_catover = df_churn[df_churn.churn == 1]\n",
    "\n",
    "df_churn_oversample = resample(df_churn_catover,\n",
    "                               replace = True,\n",
    "                               n_samples = df_churn_main.shape[0],\n",
    "                               random_state = 42)\n",
    "\n",
    "df_churn_oversample = pd.concat([df_churn_oversample, df_churn_main])"
   ]
  },
  {
   "cell_type": "code",
   "execution_count": 24,
   "metadata": {
    "scrolled": true
   },
   "outputs": [
    {
     "name": "stdout",
     "output_type": "stream",
     "text": [
      "Quantidade Observações:\n",
      "Treino: 66711\n",
      "Teste: 18532\n",
      "Validação: 7413\n"
     ]
    }
   ],
   "source": [
    "#Recriando a base de treino e testes\n",
    "\n",
    "y = df_churn_oversample['churn']\n",
    "X = df_churn_oversample.drop(['churn'], axis = 1)\n",
    "\n",
    "X_train, X_test, y_train, y_test = train_test_split(X, y, test_size = 0.2, random_state = 1 )\n",
    "X_train, X_val, y_train, y_val = train_test_split(X_train, y_train, test_size=0.1, random_state=1)\n",
    "print(\"Quantidade Observações:\\nTreino: {tr}\\nTeste: {te}\\nValidação: {v}\".format(tr = X_train.shape[0],\n",
    "                                                                                 te = X_test.shape[0],\n",
    "                                                                                 v = X_val.shape[0]))\n",
    "\n"
   ]
  },
  {
   "cell_type": "code",
   "execution_count": 25,
   "metadata": {},
   "outputs": [],
   "source": [
    "#Preprocessing\n",
    "\n",
    "X_train = X_train.values\n",
    "X_test = X_test.values\n",
    "X_val = X_val.values\n",
    "\n",
    "X_train = preprocessing.scale(X_train)\n",
    "X_test = preprocessing.scale(X_test)\n",
    "X_val = preprocessing.scale(X_val)\n"
   ]
  },
  {
   "cell_type": "code",
   "execution_count": 26,
   "metadata": {},
   "outputs": [],
   "source": [
    "#criação do learner\n",
    "et = ExtraTreesClassifier(bootstrap=True,\n",
    "                          criterion=\"entropy\",\n",
    "                          max_features=0.05,\n",
    "                          min_samples_leaf=10,\n",
    "                          min_samples_split=13, \n",
    "                          n_estimators=100)"
   ]
  },
  {
   "cell_type": "code",
   "execution_count": 27,
   "metadata": {},
   "outputs": [
    {
     "name": "stdout",
     "output_type": "stream",
     "text": [
      "Score: 0.5863371465573063\n"
     ]
    }
   ],
   "source": [
    "#Treinando o modelo\n",
    "et.fit(X_train, np.array(y_train).ravel())\n",
    "y_pred_val = et.predict(X_val)\n",
    "y_pred_train = et.predict(X_train)\n",
    "y_pred_test = et.predict(X_test)\n",
    "print(\"Score: \"+str(et.score(X_test, np.array(y_test).ravel())))"
   ]
  },
  {
   "cell_type": "code",
   "execution_count": 28,
   "metadata": {},
   "outputs": [
    {
     "data": {
      "application/vnd.jupyter.widget-view+json": {
       "model_id": "6b05bc1e669441bda1d9207876cd2e40",
       "version_major": 2,
       "version_minor": 0
      },
      "text/plain": [
       "HBox(children=(Output(), Output(), Output()))"
      ]
     },
     "metadata": {},
     "output_type": "display_data"
    }
   ],
   "source": [
    "#Plotando a confusion matrix\n",
    "\n",
    "resultados = [('Confusion Matrix: Treino', y_train, y_pred_train),\n",
    "              ('Confusion Matrix: Validação', y_val, y_pred_val),\n",
    "              ('Confusion Matrix: Teste', y_test, y_pred_test)]\n",
    "plotar_paralelo(resultados)"
   ]
  },
  {
   "cell_type": "code",
   "execution_count": 29,
   "metadata": {},
   "outputs": [
    {
     "data": {
      "text/plain": [
       "<matplotlib.axes._subplots.AxesSubplot at 0x258ed30b8d0>"
      ]
     },
     "execution_count": 29,
     "metadata": {},
     "output_type": "execute_result"
    },
    {
     "data": {
      "image/png": "[encoded data removed]",
      "text/plain": [
       "<Figure size 432x288 with 2 Axes>"
      ]
     },
     "metadata": {
      "needs_background": "light"
     },
     "output_type": "display_data"
    }
   ],
   "source": [
    "#Para vizualição da confusion matrix sem widget\n",
    "plot_confusion_matrix(y_test,y_pred_test, classes = [\"Não\", \"Sim\"])"
   ]
  },
  {
   "cell_type": "code",
   "execution_count": 30,
   "metadata": {},
   "outputs": [
    {
     "name": "stdout",
     "output_type": "stream",
     "text": [
      "Area under ROC curve = 0.58\n"
     ]
    },
    {
     "data": {
      "image/png": "[encoded data removed]",
      "text/plain": [
       "<Figure size 432x288 with 1 Axes>"
      ]
     },
     "metadata": {
      "needs_background": "light"
     },
     "output_type": "display_data"
    }
   ],
   "source": [
    "# Plotando o AUC\n",
    "\n",
    "fpr_gb, tpr_gb, _ = roc_curve(y_val, y_pred_val)\n",
    "roc_auc_gb = auc(fpr_gb, tpr_gb)\n",
    "\n",
    "print(\"Area under ROC curve = {:0.2f}\".format(roc_auc_gb))\n",
    "\n",
    "fpr, tpr, thresholds = roc_curve(y_val, y_pred_val)\n",
    "roc_auc = auc(fpr, tpr)\n",
    "\n",
    "plt.title('Receiver Operating Characteristic')\n",
    "plt.plot(fpr_gb, tpr_gb, label='AUC = %0.4f'% roc_auc)\n",
    "plt.legend(loc='lower right')\n",
    "plt.plot([0,1],[0,1],'r--')\n",
    "plt.xlim([-0.001, 1])\n",
    "plt.ylim([0, 1.001])\n",
    "plt.ylabel('True Positive Rate')\n",
    "plt.xlabel('False Positive Rate')\n",
    "plt.show();"
   ]
  },
  {
   "cell_type": "code",
   "execution_count": 31,
   "metadata": {},
   "outputs": [
    {
     "name": "stdout",
     "output_type": "stream",
     "text": [
      "              precision    recall  f1-score   support\n",
      "\n",
      "          -1       0.59      0.58      0.58      9222\n",
      "           1       0.59      0.60      0.59      9310\n",
      "\n",
      "   micro avg       0.59      0.59      0.59     18532\n",
      "   macro avg       0.59      0.59      0.59     18532\n",
      "weighted avg       0.59      0.59      0.59     18532\n",
      "\n"
     ]
    }
   ],
   "source": [
    "#plotando precisão, recall e f1-score:\n",
    "print(classification_report(y_test, y_pred_test))"
   ]
  },
  {
   "cell_type": "markdown",
   "metadata": {},
   "source": [
    "Aplicando o oversampling observamos que o modelo começa a ficar mais coerente."
   ]
  },
  {
   "cell_type": "markdown",
   "metadata": {},
   "source": [
    "## Appentency"
   ]
  },
  {
   "cell_type": "markdown",
   "metadata": {},
   "source": [
    "### Oversampling"
   ]
  },
  {
   "cell_type": "code",
   "execution_count": 32,
   "metadata": {},
   "outputs": [],
   "source": [
    "#Criando o dataframe com oversampling\n",
    "df = pd.read_csv(\"df_process.csv\")\n",
    "y = appentency\n",
    "\n",
    "y.columns = [\"appentency\"]\n",
    "df_appentency = pd.concat([df,y], axis = 1)\n",
    "\n",
    "df_appentency_main = df_appentency[df_appentency.appentency == -1]\n",
    "df_appentency_catover = df_appentency[df_appentency.appentency == 1]\n",
    "\n",
    "df_appentency_oversample = resample(df_appentency_catover,\n",
    "                               replace = True,\n",
    "                               n_samples = df_appentency_main.shape[0],\n",
    "                               random_state = 42)\n",
    "\n",
    "df_appentency_oversample = pd.concat([df_appentency_oversample, df_appentency_main])"
   ]
  },
  {
   "cell_type": "code",
   "execution_count": 33,
   "metadata": {},
   "outputs": [
    {
     "name": "stdout",
     "output_type": "stream",
     "text": [
      "Quantidade Observações:\n",
      "Treino: 70718\n",
      "Teste: 19644\n",
      "Validação: 7858\n"
     ]
    }
   ],
   "source": [
    "#Criando a base de treino, testes e validação\n",
    "\n",
    "y = df_appentency_oversample['appentency']\n",
    "X = df_appentency_oversample.drop(['appentency'], axis = 1)\n",
    "\n",
    "X_train, X_test, y_train, y_test = train_test_split(X, y, test_size = 0.2, random_state = 1 )\n",
    "X_train, X_val, y_train, y_val = train_test_split(X_train, y_train, test_size=0.1, random_state=1)\n",
    "print(\"Quantidade Observações:\\nTreino: {tr}\\nTeste: {te}\\nValidação: {v}\".format(tr = X_train.shape[0],\n",
    "                                                                                 te = X_test.shape[0],\n",
    "                                                                                 v = X_val.shape[0]))"
   ]
  },
  {
   "cell_type": "code",
   "execution_count": 68,
   "metadata": {},
   "outputs": [],
   "source": [
    "#Preprocessing\n",
    "\n",
    "X_train = X_train.values\n",
    "X_test = X_test.values\n",
    "X_val = X_val.values\n",
    "\n",
    "X_train = preprocessing.scale(X_train)\n",
    "X_test = preprocessing.scale(X_test)\n",
    "X_val = preprocessing.scale(X_val)"
   ]
  },
  {
   "cell_type": "markdown",
   "metadata": {},
   "source": [
    "#### Random forest"
   ]
  },
  {
   "cell_type": "code",
   "execution_count": 35,
   "metadata": {},
   "outputs": [],
   "source": [
    "# Vamos criar um modelo utilizando Random Forest para ver a diferença\n",
    "rf = RandomForestClassifier(bootstrap=True, \n",
    "                            criterion=\"entropy\", \n",
    "                            max_features=0.15000000000000002, \n",
    "                            min_samples_leaf=1, \n",
    "                            min_samples_split=14, \n",
    "                            n_estimators=100)"
   ]
  },
  {
   "cell_type": "code",
   "execution_count": 36,
   "metadata": {},
   "outputs": [
    {
     "name": "stdout",
     "output_type": "stream",
     "text": [
      "Score: 0.6208002443494197\n"
     ]
    }
   ],
   "source": [
    "rf.fit(X_train, y_train)\n",
    "y_pred_val = rf.predict(X_val)\n",
    "y_pred_train = rf.predict(X_train)\n",
    "y_pred_test = rf.predict(X_test)\n",
    "print(\"Score: \"+str(rf.score(X_test, np.array(y_test).ravel())))"
   ]
  },
  {
   "cell_type": "code",
   "execution_count": 37,
   "metadata": {},
   "outputs": [
    {
     "data": {
      "application/vnd.jupyter.widget-view+json": {
       "model_id": "bc0af38fcbb64b9fb7b0b53e29e8243c",
       "version_major": 2,
       "version_minor": 0
      },
      "text/plain": [
       "HBox(children=(Output(), Output(), Output()))"
      ]
     },
     "metadata": {},
     "output_type": "display_data"
    }
   ],
   "source": [
    "resultados = [('Confusion Matrix: Treino', y_train, y_pred_train),\n",
    "              ('Confusion Matrix: Validação', y_val, y_pred_val),\n",
    "              ('Confusion Matrix: Teste', y_test, y_pred_test)]\n",
    "plotar_paralelo(resultados)"
   ]
  },
  {
   "cell_type": "code",
   "execution_count": 38,
   "metadata": {},
   "outputs": [
    {
     "data": {
      "text/plain": [
       "<matplotlib.axes._subplots.AxesSubplot at 0x258ed222978>"
      ]
     },
     "execution_count": 38,
     "metadata": {},
     "output_type": "execute_result"
    },
    {
     "data": {
      "image/png": "[encoded data removed]",
      "text/plain": [
       "<Figure size 432x288 with 2 Axes>"
      ]
     },
     "metadata": {
      "needs_background": "light"
     },
     "output_type": "display_data"
    }
   ],
   "source": [
    "#Para vizualição da confusion matrix sem necessidade do pacote widget\n",
    "plot_confusion_matrix(y_test,y_pred_test, classes = [\"Não\", \"Sim\"])"
   ]
  },
  {
   "cell_type": "code",
   "execution_count": 39,
   "metadata": {},
   "outputs": [
    {
     "name": "stdout",
     "output_type": "stream",
     "text": [
      "Area under ROC curve = 0.65\n"
     ]
    },
    {
     "data": {
      "image/png": "[encoded data removed]",
      "text/plain": [
       "<Figure size 432x288 with 1 Axes>"
      ]
     },
     "metadata": {
      "needs_background": "light"
     },
     "output_type": "display_data"
    }
   ],
   "source": [
    "# ROC curve and Area-Under-Curve (AUC)\n",
    "\n",
    "fpr_gb, tpr_gb, _ = roc_curve(y_val, y_pred_val)\n",
    "roc_auc_gb = auc(fpr_gb, tpr_gb)\n",
    "\n",
    "print(\"Area under ROC curve = {:0.2f}\".format(roc_auc_gb))\n",
    "\n",
    "fpr, tpr, thresholds = roc_curve(y_val, y_pred_val)\n",
    "roc_auc = auc(fpr, tpr)\n",
    "\n",
    "plt.title('Receiver Operating Characteristic')\n",
    "plt.plot(fpr_gb, tpr_gb, label='AUC = %0.4f'% roc_auc)\n",
    "plt.legend(loc='lower right')\n",
    "plt.plot([0,1],[0,1],'r--')\n",
    "plt.xlim([-0.001, 1])\n",
    "plt.ylim([0, 1.001])\n",
    "plt.ylabel('True Positive Rate')\n",
    "plt.xlabel('False Positive Rate')\n",
    "plt.show();"
   ]
  },
  {
   "cell_type": "code",
   "execution_count": 40,
   "metadata": {},
   "outputs": [
    {
     "name": "stdout",
     "output_type": "stream",
     "text": [
      "              precision    recall  f1-score   support\n",
      "\n",
      "          -1       0.57      1.00      0.72      9682\n",
      "           1       1.00      0.25      0.40      9962\n",
      "\n",
      "   micro avg       0.62      0.62      0.62     19644\n",
      "   macro avg       0.78      0.63      0.56     19644\n",
      "weighted avg       0.79      0.62      0.56     19644\n",
      "\n"
     ]
    }
   ],
   "source": [
    "#plotando precisão, recall e f1-score:\n",
    "print(classification_report(y_test, y_pred_test))"
   ]
  },
  {
   "cell_type": "markdown",
   "metadata": {},
   "source": [
    "### Utilizando o Algoritmo de AutoML"
   ]
  },
  {
   "cell_type": "code",
   "execution_count": 231,
   "metadata": {},
   "outputs": [],
   "source": [
    "tp = TPOTClassifier(\n",
    "    generations=2,\n",
    "    population_size=10,\n",
    "    cv=2,\n",
    "    n_jobs=-1,\n",
    "    random_state=0,\n",
    "    verbosity=0\n",
    ")"
   ]
  },
  {
   "cell_type": "code",
   "execution_count": 232,
   "metadata": {},
   "outputs": [
    {
     "name": "stdout",
     "output_type": "stream",
     "text": [
      "Warning: xgboost.XGBClassifier is not available and will not be used by TPOT.\n"
     ]
    },
    {
     "data": {
      "text/plain": [
       "TPOTClassifier(config_dict=None, crossover_rate=0.1, cv=2,\n",
       "        disable_update_check=False, early_stop=None, generations=2,\n",
       "        max_eval_time_mins=5, max_time_mins=None, memory=None,\n",
       "        mutation_rate=0.9, n_jobs=-1, offspring_size=None,\n",
       "        periodic_checkpoint_folder=None, population_size=10,\n",
       "        random_state=0, scoring=None, subsample=1.0, template='RandomTree',\n",
       "        use_dask=False, verbosity=0, warm_start=False)"
      ]
     },
     "execution_count": 232,
     "metadata": {},
     "output_type": "execute_result"
    }
   ],
   "source": [
    "tp.fit(X_train, np.array(y_train).ravel())"
   ]
  },
  {
   "cell_type": "code",
   "execution_count": 233,
   "metadata": {},
   "outputs": [
    {
     "name": "stdout",
     "output_type": "stream",
     "text": [
      "Score: 0.9492465892893505\n"
     ]
    }
   ],
   "source": [
    "print(\"Score: \"+str(tp.score(X_test, np.array(y_test).ravel())))"
   ]
  },
  {
   "cell_type": "code",
   "execution_count": 234,
   "metadata": {},
   "outputs": [
    {
     "name": "stdout",
     "output_type": "stream",
     "text": [
      "import numpy as np\n",
      "import pandas as pd\n",
      "from sklearn.ensemble import ExtraTreesClassifier\n",
      "from sklearn.model_selection import train_test_split\n",
      "from sklearn.naive_bayes import GaussianNB\n",
      "from sklearn.pipeline import make_pipeline, make_union\n",
      "from tpot.builtins import StackingEstimator\n",
      "\n",
      "# NOTE: Make sure that the class is labeled 'target' in the data file\n",
      "tpot_data = pd.read_csv('PATH/TO/DATA/FILE', sep='COLUMN_SEPARATOR', dtype=np.float64)\n",
      "features = tpot_data.drop('target', axis=1).values\n",
      "training_features, testing_features, training_target, testing_target = \\\n",
      "            train_test_split(features, tpot_data['target'].values, random_state=0)\n",
      "\n",
      "# Average CV score on the training set was:0.9941740433835798\n",
      "exported_pipeline = make_pipeline(\n",
      "    StackingEstimator(estimator=ExtraTreesClassifier(bootstrap=False, criterion=\"entropy\", max_features=0.9000000000000001, min_samples_leaf=4, min_samples_split=13, n_estimators=100)),\n",
      "    GaussianNB()\n",
      ")\n",
      "\n",
      "exported_pipeline.fit(training_features, training_target)\n",
      "results = exported_pipeline.predict(testing_features)\n",
      "\n"
     ]
    }
   ],
   "source": [
    "tp.export('modelo.py')\n",
    "with open('modelo.py') as pipe:\n",
    "    print(\"\".join(pipe.readlines()))"
   ]
  },
  {
   "cell_type": "code",
   "execution_count": 56,
   "metadata": {},
   "outputs": [],
   "source": [
    "#criando o modelo sugerido\n",
    "md = make_pipeline(StackingEstimator(estimator=ExtraTreesClassifier(bootstrap=False,\n",
    "                                                                    criterion=\"entropy\",\n",
    "                                                                    max_features=0.9000000000000001,\n",
    "                                                                    min_samples_leaf=4,\n",
    "                                                                    min_samples_split=13,\n",
    "                                                                    n_estimators=100)),\n",
    "                   GaussianNB())"
   ]
  },
  {
   "cell_type": "code",
   "execution_count": 57,
   "metadata": {},
   "outputs": [
    {
     "name": "stdout",
     "output_type": "stream",
     "text": [
      "Score: 0.9971492567705151\n"
     ]
    }
   ],
   "source": [
    "md.fit(X_train, y_train)\n",
    "y_pred_valid = md.predict(X_val)\n",
    "y_pred_train = md.predict(X_train)\n",
    "y_pred_test = md.predict(X_test)\n",
    "print(\"Score: \"+str(md.score(X_test, np.array(y_test).ravel())))"
   ]
  },
  {
   "cell_type": "code",
   "execution_count": 58,
   "metadata": {},
   "outputs": [
    {
     "data": {
      "application/vnd.jupyter.widget-view+json": {
       "model_id": "b63c0123114f4927869371136ba60487",
       "version_major": 2,
       "version_minor": 0
      },
      "text/plain": [
       "HBox(children=(Output(), Output(), Output()))"
      ]
     },
     "metadata": {},
     "output_type": "display_data"
    }
   ],
   "source": [
    "resultados = [('Confusion Matrix: Treino', y_train, y_pred_train),\n",
    "              ('Confusion Matrix: Validação', y_val, y_pred_val),\n",
    "              ('Confusion Matrix: Teste', y_test, y_pred_test)]\n",
    "plotar_paralelo(resultados)"
   ]
  },
  {
   "cell_type": "code",
   "execution_count": 59,
   "metadata": {},
   "outputs": [
    {
     "data": {
      "text/plain": [
       "<matplotlib.axes._subplots.AxesSubplot at 0x258803e1ac8>"
      ]
     },
     "execution_count": 59,
     "metadata": {},
     "output_type": "execute_result"
    },
    {
     "data": {
      "image/png": "[encoded data removed]",
      "text/plain": [
       "<Figure size 432x288 with 2 Axes>"
      ]
     },
     "metadata": {
      "needs_background": "light"
     },
     "output_type": "display_data"
    }
   ],
   "source": [
    "#Confusion matrix\n",
    "plot_confusion_matrix(y_test,y_pred_test, classes = [\"Não\", \"Sim\"])"
   ]
  },
  {
   "cell_type": "code",
   "execution_count": 60,
   "metadata": {},
   "outputs": [
    {
     "name": "stdout",
     "output_type": "stream",
     "text": [
      "Area under ROC curve = 0.50\n"
     ]
    },
    {
     "data": {
      "image/png": "[encoded data removed]",
      "text/plain": [
       "<Figure size 432x288 with 1 Axes>"
      ]
     },
     "metadata": {
      "needs_background": "light"
     },
     "output_type": "display_data"
    }
   ],
   "source": [
    "# ROC curve and Area-Under-Curve (AUC)\n",
    "\n",
    "fpr_gb, tpr_gb, _ = roc_curve(y_test, y_pred_test)\n",
    "roc_auc_gb = auc(fpr_gb, tpr_gb)\n",
    "\n",
    "print(\"Area under ROC curve = {:0.2f}\".format(roc_auc_gb))\n",
    "\n",
    "fpr, tpr, thresholds = roc_curve(y_val, y_pred_val)\n",
    "roc_auc = auc(fpr, tpr)\n",
    "\n",
    "plt.title('Receiver Operating Characteristic')\n",
    "plt.plot(fpr_gb, tpr_gb, label='AUC = %0.4f'% roc_auc)\n",
    "plt.legend(loc='lower right')\n",
    "plt.plot([0,1],[0,1],'r--')\n",
    "plt.xlim([-0.001, 1])\n",
    "plt.ylim([0, 1.001])\n",
    "plt.ylabel('True Positive Rate')\n",
    "plt.xlabel('False Positive Rate')\n",
    "plt.show();"
   ]
  },
  {
   "cell_type": "code",
   "execution_count": 46,
   "metadata": {},
   "outputs": [
    {
     "name": "stdout",
     "output_type": "stream",
     "text": [
      "              precision    recall  f1-score   support\n",
      "\n",
      "          -1       0.57      1.00      0.72      9682\n",
      "           1       1.00      0.25      0.40      9962\n",
      "\n",
      "   micro avg       0.62      0.62      0.62     19644\n",
      "   macro avg       0.78      0.63      0.56     19644\n",
      "weighted avg       0.79      0.62      0.56     19644\n",
      "\n"
     ]
    }
   ],
   "source": [
    "#plotando precisão, recall e f1-score:\n",
    "print(classification_report(y_test, y_pred_test))"
   ]
  },
  {
   "cell_type": "markdown",
   "metadata": {},
   "source": [
    "O modelo sugerido somente está classificando as observações como \"Não\"."
   ]
  },
  {
   "cell_type": "markdown",
   "metadata": {},
   "source": [
    "## Upselling"
   ]
  },
  {
   "cell_type": "code",
   "execution_count": 69,
   "metadata": {},
   "outputs": [],
   "source": [
    "#criando os objetos com os dados\n",
    "df = pd.read_csv(\"df_process.csv\")\n",
    "y = upsell"
   ]
  },
  {
   "cell_type": "code",
   "execution_count": 70,
   "metadata": {},
   "outputs": [],
   "source": [
    "#realizando o upsampling nos dados\n",
    "y.columns = [\"upsell\"]\n",
    "df_upsell = pd.concat([df,y], axis = 1)\n",
    "\n",
    "df_upsell_main = df_upsell[df_upsell.upsell == -1]\n",
    "df_upsell_catover = df_upsell[df_upsell.upsell == 1]\n",
    "\n",
    "df_upsell_oversample = resample(df_upsell_catover,\n",
    "                               replace = True,\n",
    "                               n_samples = df_upsell_main.shape[0],\n",
    "                               random_state = 42)\n",
    "\n",
    "df_upsell_oversample = pd.concat([df_upsell_oversample, df_upsell_main])"
   ]
  },
  {
   "cell_type": "code",
   "execution_count": 71,
   "metadata": {},
   "outputs": [
    {
     "name": "stdout",
     "output_type": "stream",
     "text": [
      "Quantidade Observações:\n",
      "Treino: 66697\n",
      "Teste: 18528\n",
      "Validação: 7411\n"
     ]
    }
   ],
   "source": [
    "#Criando a base de treino, testes e validação\n",
    "\n",
    "y = df_upsell_oversample['upsell']\n",
    "X = df_upsell_oversample.drop(['upsell'], axis = 1)\n",
    "\n",
    "X_train, X_test, y_train, y_test = train_test_split(X, y, test_size = 0.2, random_state = 1 )\n",
    "X_train, X_val, y_train, y_val = train_test_split(X_train, y_train, test_size=0.1, random_state=1)\n",
    "print(\"Quantidade Observações:\\nTreino: {tr}\\nTeste: {te}\\nValidação: {v}\".format(tr = X_train.shape[0],\n",
    "                                                                                 te = X_test.shape[0],\n",
    "                                                                                 v = X_val.shape[0]))"
   ]
  },
  {
   "cell_type": "code",
   "execution_count": 72,
   "metadata": {},
   "outputs": [],
   "source": [
    "#Preprocessing\n",
    "\n",
    "X_train = X_train.values\n",
    "X_test = X_test.values\n",
    "X_val = X_val.values\n",
    "\n",
    "X_train = preprocessing.scale(X_train)\n",
    "X_test = preprocessing.scale(X_test)\n",
    "X_val = preprocessing.scale(X_val)"
   ]
  },
  {
   "cell_type": "code",
   "execution_count": 73,
   "metadata": {},
   "outputs": [
    {
     "name": "stdout",
     "output_type": "stream",
     "text": [
      "Quantidade Observações:\n",
      "Treino: 70718\n",
      "Teste: 19644\n",
      "Validação: 7858\n"
     ]
    }
   ],
   "source": [
    "#Criando a base de treino, testes e validação\n",
    "\n",
    "y = df_appentency_oversample['appentency']\n",
    "X = df_appentency_oversample.drop(['appentency'], axis = 1)\n",
    "\n",
    "X_train, X_test, y_train, y_test = train_test_split(X, y, test_size = 0.2, random_state = 1 )\n",
    "X_train, X_val, y_train, y_val = train_test_split(X_train, y_train, test_size=0.1, random_state=1)\n",
    "print(\"Quantidade Observações:\\nTreino: {tr}\\nTeste: {te}\\nValidação: {v}\".format(tr = X_train.shape[0],\n",
    "                                                                                 te = X_test.shape[0],\n",
    "                                                                                 v = X_val.shape[0]))"
   ]
  },
  {
   "cell_type": "markdown",
   "metadata": {},
   "source": [
    "#### Arvore de decisão"
   ]
  },
  {
   "cell_type": "code",
   "execution_count": 82,
   "metadata": {},
   "outputs": [
    {
     "data": {
      "text/plain": [
       "DecisionTreeClassifier(class_weight=None, criterion='gini', max_depth=4,\n",
       "            max_features=None, max_leaf_nodes=None,\n",
       "            min_impurity_decrease=0.0, min_impurity_split=None,\n",
       "            min_samples_leaf=50, min_samples_split=2,\n",
       "            min_weight_fraction_leaf=0.0, presort=False, random_state=42,\n",
       "            splitter='best')"
      ]
     },
     "execution_count": 82,
     "metadata": {},
     "output_type": "execute_result"
    }
   ],
   "source": [
    "tree = DecisionTreeClassifier(max_depth=4, min_samples_leaf = 50, random_state=42)"
   ]
  },
  {
   "cell_type": "code",
   "execution_count": 83,
   "metadata": {},
   "outputs": [
    {
     "name": "stdout",
     "output_type": "stream",
     "text": [
      "Score: 0.6239055182243942\n"
     ]
    }
   ],
   "source": [
    "tree.fit(X_train, np.array(y_train).ravel())\n",
    "y_pred_valid = tree.predict(X_val)\n",
    "y_pred_train = tree.predict(X_train)\n",
    "y_pred_test = tree.predict(X_test)\n",
    "print(\"Score: \"+str(tree.score(X_test, np.array(y_test).ravel())))"
   ]
  },
  {
   "cell_type": "code",
   "execution_count": 84,
   "metadata": {},
   "outputs": [
    {
     "data": {
      "text/plain": [
       "<matplotlib.axes._subplots.AxesSubplot at 0x258809af6d8>"
      ]
     },
     "execution_count": 84,
     "metadata": {},
     "output_type": "execute_result"
    },
    {
     "data": {
      "image/png": "[encoded data removed]",
      "text/plain": [
       "<Figure size 432x288 with 2 Axes>"
      ]
     },
     "metadata": {
      "needs_background": "light"
     },
     "output_type": "display_data"
    }
   ],
   "source": [
    "#Confusion Matrix\n",
    "plot_confusion_matrix(y_test,y_pred_test, classes = [\"Não\", \"Sim\"])"
   ]
  },
  {
   "cell_type": "code",
   "execution_count": 90,
   "metadata": {},
   "outputs": [
    {
     "name": "stdout",
     "output_type": "stream",
     "text": [
      "Area under ROC curve = 0.62\n"
     ]
    },
    {
     "data": {
      "image/png": "[encoded data removed]",
      "text/plain": [
       "<Figure size 432x288 with 1 Axes>"
      ]
     },
     "metadata": {
      "needs_background": "light"
     },
     "output_type": "display_data"
    }
   ],
   "source": [
    "# ROC curve and Area-Under-Curve (AUC)\n",
    "\n",
    "fpr_gb, tpr_gb, _ = roc_curve(y_test, y_pred_test)\n",
    "roc_auc_gb = auc(fpr_gb, tpr_gb)\n",
    "\n",
    "print(\"Area under ROC curve = {:0.2f}\".format(roc_auc_gb))\n",
    "\n",
    "fpr, tpr, thresholds = roc_curve(y_test, y_pred_test)\n",
    "roc_auc = auc(fpr, tpr)\n",
    "\n",
    "plt.title('Receiver Operating Characteristic')\n",
    "plt.plot(fpr_gb, tpr_gb, label='AUC = %0.4f'% roc_auc)\n",
    "plt.legend(loc='lower right')\n",
    "plt.plot([0,1],[0,1],'r--')\n",
    "plt.xlim([-0.001, 1])\n",
    "plt.ylim([0, 1.001])\n",
    "plt.ylabel('True Positive Rate')\n",
    "plt.xlabel('False Positive Rate')\n",
    "plt.show();"
   ]
  },
  {
   "cell_type": "code",
   "execution_count": 86,
   "metadata": {},
   "outputs": [
    {
     "name": "stdout",
     "output_type": "stream",
     "text": [
      "              precision    recall  f1-score   support\n",
      "\n",
      "          -1       0.65      0.52      0.58      9682\n",
      "           1       0.61      0.72      0.66      9962\n",
      "\n",
      "   micro avg       0.62      0.62      0.62     19644\n",
      "   macro avg       0.63      0.62      0.62     19644\n",
      "weighted avg       0.63      0.62      0.62     19644\n",
      "\n"
     ]
    }
   ],
   "source": [
    "#plotando precisão, recall e f1-score:\n",
    "print(classification_report(y_test, y_pred_test))"
   ]
  },
  {
   "cell_type": "markdown",
   "metadata": {},
   "source": [
    "O modelo começa a ficar mais consistente."
   ]
  }
 ],
 "metadata": {
  "kernelspec": {
   "display_name": "Python 3",
   "language": "python",
   "name": "python3"
  },
  "language_info": {
   "codemirror_mode": {
    "name": "ipython",
    "version": 3
   },
   "file_extension": ".py",
   "mimetype": "text/x-python",
   "name": "python",
   "nbconvert_exporter": "python",
   "pygments_lexer": "ipython3",
   "version": "3.7.3"
  }
 },
 "nbformat": 4,
 "nbformat_minor": 2
}
